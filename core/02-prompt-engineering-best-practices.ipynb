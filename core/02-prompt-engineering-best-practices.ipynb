{
  "cells": [
    {
      "cell_type": "markdown",
      "metadata": {
        "nteract": {
          "transient": {
            "deleting": false
          }
        }
      },
      "source": [
        "## Best Practices for Prompt Engineering"
      ]
    },
    {
      "cell_type": "markdown",
      "metadata": {
        "nteract": {
          "transient": {
            "deleting": false
          }
        }
      },
      "source": [
        "#### 1. Define Model"
      ]
    },
    {
      "cell_type": "code",
      "execution_count": 17,
      "metadata": {
        "gather": {
          "logged": 1699505279876
        }
      },
      "outputs": [],
      "source": [
        "from openai import AzureOpenAI\n",
        "import os\n",
        "\n",
        "base_url = \"https://aoai719xyz01.openai.azure.com/\"\n",
        "api_version = \"2023-07-01-preview\"\n",
        "api_key = os.environ.get(\"OPENAI_API_KEY\")\n",
        "deployment_name = \"gpt4-32k\" # change to your deployment name\n",
        "\n",
        "client = AzureOpenAI(api_key=api_key, api_version=api_version, azure_endpoint=base_url)"
      ]
    },
    {
      "cell_type": "markdown",
      "metadata": {
        "nteract": {
          "transient": {
            "deleting": false
          }
        }
      },
      "source": [
        "#### 2. Put instructions at the begining of the prompt and use ### or \"\"\" to separate the instruction and context"
      ]
    },
    {
      "cell_type": "code",
      "execution_count": 29,
      "metadata": {
        "gather": {
          "logged": 1699505589495
        },
        "jupyter": {
          "outputs_hidden": false,
          "source_hidden": false
        },
        "nteract": {
          "transient": {
            "deleting": false
          }
        }
      },
      "outputs": [
        {
          "name": "stdout",
          "output_type": "stream",
          "text": [
            "- OpenAI and Microsoft are extending their partnership.\n",
            "- Microsoft's multi-year, multi-billion dollar investment follows previous investments in 2019 and 2021.\n",
            "- The investment will help OpenAI continue its independent research and the development of AI that is safe, powerful, and useful.\n",
            "- OpenAI will remain a capped-profit company and be governed by the OpenAI non-profit.\n",
            "- This structure allows OpenAI to raise necessary capital without sacrificing core beliefs about sharing benefits broadly and prioritizing safety.\n",
            "- Microsoft shares OpenAI's vision and values, making their partnership crucial to OpenAI's progress.\n"
          ]
        }
      ],
      "source": [
        "response = client.chat.completions.create(\n",
        "    model=deployment_name,\n",
        "    messages = [{\"role\":\"system\", \"content\":\"You are a helpful assistant.\"},\n",
        "                {\"role\":\"user\",\"content\": 'Summarize the text below as a bullet point list of the most important points. \\n\\n \\\n",
        "                ###\\n\\nWe’re happy to announce that OpenAI and Microsoft are extending our partnership.\\\n",
        "                This multi-year, multi-billion dollar investment from Microsoft follows their previous investments \\\n",
        "                in 2019 and 2021, and will allow us to continue our independent research and develop AI that is \\\n",
        "                increasingly safe, useful, and powerful. \\n\\n \\\n",
        "                In pursuit of our mission to ensure advanced AI benefits all of humanity, OpenAI remains a \\\n",
        "                capped-profit company and is governed by the OpenAI non-profit. This structure allows us to \\\n",
        "                raise the capital we need to fulfill our mission without sacrificing our core beliefs about \\\n",
        "                broadly sharing benefits and the need to prioritize safety. \\\n",
        "                Microsoft shares this vision and our values, and our partnership is instrumental to our progress. \\n###',}],\n",
        "                max_tokens=400,)\n",
        "\n",
        "print(response.choices[0].message.content)"
      ]
    },
    {
      "cell_type": "markdown",
      "metadata": {
        "nteract": {
          "transient": {
            "deleting": false
          }
        }
      },
      "source": [
        "#### 3. Be specific, descriptive and as detailed as possible about the desired context, outcome, length, format, style, etc"
      ]
    },
    {
      "cell_type": "code",
      "execution_count": 30,
      "metadata": {
        "gather": {
          "logged": 1699505611789
        },
        "jupyter": {
          "outputs_hidden": false,
          "source_hidden": false
        },
        "nteract": {
          "transient": {
            "deleting": false
          }
        }
      },
      "outputs": [
        {
          "name": "stdout",
          "output_type": "stream",
          "text": [
            "In the realm of tech where ideas fly,\n",
            "Rises an entity bold and spry,\n",
            "OpenAI, with its digital eye,\n",
            "Mapping out realms where knowledge lie.\n",
            "\n",
            "Crafted in algorithms, data and code,\n",
            "A strong aspiration, their unique mode,\n",
            "To ensure advancements in tech abide,\n",
            "Creating AI, humanity's guide.\n",
            "\n",
            "Within its grasp, a neural net,\n",
            "An innovation we shouldn't forget,\n",
            "GPT's power, profound and high,\n",
            "Answers queries with a confident sigh.\n",
            "\n",
            "In fields of text, it promises to serve,\n",
            "Speaking of narratives with graceful verve,\n",
            "It writes, suggests, with understanding rare,\n",
            "Finding meanings deep, in answers it shares.\n",
            "\n",
            "AI's potential, vast and bright,\n",
            "Guided by OpenAI's prudent foresight,\n",
            "Aspiring to harness and guide this power,\n",
            "For mankind's progress, it’s finest hour.\n",
            "\n",
            "Yet, in its mission, a noble stand,\n",
            "To move with ethics, hand in hand,\n",
            "Ensuring benefits fairly spread,\n",
            "The path of benefit, it aims to tread.\n",
            "\n",
            "OpenAI, in cyberspace you sail,\n",
            "Across data oceans, leaving a trail,\n",
            "With you, we dive into the unknown,\n",
            "Exploring worlds by AI shown.\n"
          ]
        }
      ],
      "source": [
        "response = client.chat.completions.create(\n",
        "    model=deployment_name,\n",
        "    messages = [{\"role\":\"system\", \"content\":\"You are a helpful assistant.\"},\n",
        "                {\"role\":\"user\",\"content\": 'Write a poem about OpenAI.',}],\n",
        "        max_tokens=400,)\n",
        "\n",
        "print(response.choices[0].message.content)"
      ]
    },
    {
      "cell_type": "code",
      "execution_count": 31,
      "metadata": {
        "gather": {
          "logged": 1699505642441
        },
        "jupyter": {
          "outputs_hidden": false,
          "source_hidden": false
        },
        "nteract": {
          "transient": {
            "deleting": false
          }
        }
      },
      "outputs": [
        {
          "name": "stdout",
          "output_type": "stream",
          "text": [
            "OpenAI, with brilliance ablaze,\n",
            "A beacon bright in cybernetic haze.\n",
            "Launched DALL-E, risen so high,\n",
            "A masterpiece wrought in earth's digital sky. \n",
            "\n",
            "In a world encased in silicon dreams,\n",
            "Where mankind quests for the unseen.\n",
            "This triumph proves, beyond the doubt,\n",
            "The power of minds when thoughts break out.\n",
            "\n",
            "DALL-E, oh marvel, in your birth,\n",
            "Unveils the beauty one's mind is worth.\n",
            "Through bytes and codes and complex layers,\n",
            "Mirrors man's unending prayers.\n",
            "\n",
            "Through machine-learned insight,\n",
            "Emerges an artist in the night.\n",
            "Crafting visions from mental ether,\n",
            "Where art and tech dance together.\n",
            "\n",
            "Now adding colors to our days,\n",
            "In unsurpassed, myriad ways.\n",
            "Through a blend of human and machine,\n",
            "The future emerges, bright and serene.\n",
            "\n",
            "Hemingway, had he lived to see,\n",
            "The prowess of this apt decree.\n",
            "Would revel in the fervor ignited,\n",
            "By OpenAI’s path, so brightly lighted.\n",
            "\n",
            "For in the end, the tale is clear,\n",
            "The future is ours, it's almost here.\n",
            "With daring minds and bold hearts to lead,\n",
            "OpenAI is planting the seed.\n",
            "\n"
          ]
        }
      ],
      "source": [
        "response = client.chat.completions.create(\n",
        "    model=deployment_name,\n",
        "    messages = [{\"role\":\"system\", \"content\":\"You are a helpful assistant.\"},\n",
        "                {\"role\":\"user\",\"content\": 'Write a short inspiring poem about OpenAI, \\\n",
        "                focusing on the recent DALL-E product launch in the style of Ernest Hemingway',}],\n",
        "        max_tokens=400,)\n",
        "\n",
        "print(response.choices[0].message.content)"
      ]
    },
    {
      "cell_type": "markdown",
      "metadata": {
        "nteract": {
          "transient": {
            "deleting": false
          }
        }
      },
      "source": [
        "#### 4. Articulate the desired output format through examples (example 1, example 2)."
      ]
    },
    {
      "cell_type": "code",
      "execution_count": 32,
      "metadata": {
        "gather": {
          "logged": 1699505646490
        },
        "jupyter": {
          "outputs_hidden": false,
          "source_hidden": false
        },
        "nteract": {
          "transient": {
            "deleting": false
          }
        }
      },
      "outputs": [
        {
          "name": "stdout",
          "output_type": "stream",
          "text": [
            "[\n",
            "  {\"text\": \"OpenAI\", \"start\": 28, \"end\": 34},\n",
            "  {\"text\": \"Microsoft\", \"start\": 39, \"end\": 48},\n",
            "  {\"text\": \"Microsoft\", \"start\": 136, \"end\": 145},\n",
            "  {\"text\": \"2019\", \"start\": 189, \"end\": 193},\n",
            "  {\"text\": \"2021\", \"start\": 198, \"end\": 202}\n",
            "]\n"
          ]
        }
      ],
      "source": [
        "response = client.chat.completions.create(\n",
        "    model=deployment_name,\n",
        "    messages = [{\"role\":\"system\", \"content\":\"You are a helpful assistant.\"},\n",
        "                {\"role\":\"user\",\"content\": 'Extract the companyn names then years in the following text below and output start index and end index of each entity.\\\n",
        "                Generate output as {\"text\": \"OpenAI\", \"start\": 28, \"end\": 34} \\\n",
        "                ###\\\n",
        "                We’re happy to announce that OpenAI and Microsoft are extending our partnership.\\\n",
        "                This multi-year, multi-billion dollar investment from Microsoft follows their previous investments \\\n",
        "                in 2019 and 2021, and will allow us to continue our independent research and develop AI that is \\\n",
        "                increasingly safe, useful, and powerful. \\n\\n \\\n",
        "                ###\\\n",
        "                ',}],\n",
        "        max_tokens=400,)\n",
        "\n",
        "print(response.choices[0].message.content)"
      ]
    },
    {
      "cell_type": "code",
      "execution_count": 33,
      "metadata": {
        "gather": {
          "logged": 1699505648145
        },
        "jupyter": {
          "outputs_hidden": false,
          "source_hidden": false
        },
        "nteract": {
          "transient": {
            "deleting": false
          }
        }
      },
      "outputs": [
        {
          "name": "stdout",
          "output_type": "stream",
          "text": [
            "Company names: OpenAI, Microsoft\n",
            "Years: 2019, 2021\n",
            "Specific topics: Partnership extension, Multi-billion dollar investment, Independent research, AI development\n",
            "General themes: Corporate Partnerships, Investment, Artificial Intelligence Research and Development\n"
          ]
        }
      ],
      "source": [
        "response = client.chat.completions.create(\n",
        "    model=deployment_name,\n",
        "    messages = [{\"role\":\"system\", \"content\":\"You are a helpful assistant.\"},\n",
        "                {\"role\":\"user\",\"content\": 'Extract the entities mentioned in the text below. \\\n",
        "                Extract the important entities mentioned in the text below. \\\n",
        "                First extract all company names, then extract all years, \\\n",
        "                then extract specific topics which fit the content and finally extract general overarching themes\\n\\n \\\n",
        "                Desired format: \\\n",
        "                Company names: <comma_separated_list_of_company_names> \\\n",
        "                Years: -||- \\\n",
        "                Specific topics: -||- \\\n",
        "                General themes: -||- \\\n",
        "                \"\"\"\\\n",
        "                We’re happy to announce that OpenAI and Microsoft are extending our partnership.\\\n",
        "                This multi-year, multi-billion dollar investment from Microsoft follows their previous investments \\\n",
        "                in 2019 and 2021, and will allow us to continue our independent research and develop AI that is \\\n",
        "                increasingly safe, useful, and powerful. \\n\\n \\\n",
        "                \"\"\"\\\n",
        "                ',}],\n",
        "        max_tokens=400,)\n",
        "\n",
        "print(response.choices[0].message.content)"
      ]
    },
    {
      "cell_type": "markdown",
      "metadata": {
        "nteract": {
          "transient": {
            "deleting": false
          }
        }
      },
      "source": [
        "#### 5. Start with zero-shot, then few-shot (example)"
      ]
    },
    {
      "cell_type": "code",
      "execution_count": 34,
      "metadata": {
        "gather": {
          "logged": 1699506010701
        },
        "jupyter": {
          "outputs_hidden": false,
          "source_hidden": false
        },
        "nteract": {
          "transient": {
            "deleting": false
          }
        }
      },
      "outputs": [
        {
          "name": "stdout",
          "output_type": "stream",
          "text": [
            "OpenAI, Microsoft, extending partnership, multi-year, multi-billion dollar investment, Microsoft, previous investments, 2019, 2021, continue, independent research, develop AI, safe, useful, powerful.\n"
          ]
        }
      ],
      "source": [
        "response = client.chat.completions.create(\n",
        "    model=deployment_name,\n",
        "    messages = [{\"role\":\"system\", \"content\":\"You are a helpful assistant. Extract keywords from the corresponding texts below.\"},\n",
        "                {\"role\":\"user\",\"content\": 'Text: \\n\\\n",
        "            We’re happy to announce that OpenAI and Microsoft are extending our partnership.\\\n",
        "            This multi-year, multi-billion dollar investment from Microsoft follows their previous investments \\\n",
        "            in 2019 and 2021, and will allow us to continue our independent research and develop AI that is \\\n",
        "            increasingly safe, useful, and powerful. \\n\\nKeywords:    ',}],\n",
        "        max_tokens=400,)\n",
        "\n",
        "print(response.choices[0].message.content)"
      ]
    },
    {
      "cell_type": "code",
      "execution_count": 35,
      "metadata": {
        "gather": {
          "logged": 1699506017996
        },
        "jupyter": {
          "outputs_hidden": false,
          "source_hidden": false
        },
        "nteract": {
          "transient": {
            "deleting": false
          }
        }
      },
      "outputs": [
        {
          "name": "stdout",
          "output_type": "stream",
          "text": [
            "OpenAI, Microsoft, partnership, multi-year, multi-billion dollar investment, independent research, AI, safe, useful, powerful.\n"
          ]
        }
      ],
      "source": [
        "response = client.chat.completions.create(\n",
        "    model=deployment_name,\n",
        "    messages = [{\"role\":\"system\", \"content\":\"You are a helpful assistant. Extract keywords from the corresponding texts below.\\n\\n \\\n",
        "                Text: Stripe provides APIs that web developers can use to integrate \\\n",
        "                payment processing into their websites and mobile applications. \\\n",
        "                Keywords: Stripe, payment processing, APIs, web developers, websites, mobile applications \\\n",
        "                ###\\n\\\n",
        "                Text: OpenAI has trained cutting-edge language models that are very good at understanding \\\n",
        "                and generating text. Our API provides access to these models and can be used to solve virtually \\\n",
        "                any task that involves processing language. \\n\\\n",
        "                Keywords: language models, text processing, API.\\n\\n\\\n",
        "                ##W\"},\n",
        "                {\"role\":\"user\",\"content\": '\\n\\\n",
        "                Text: We’re happy to announce that OpenAI and Microsoft are extending our partnership.\\\n",
        "                This multi-year, multi-billion dollar investment from Microsoft follows their previous investments \\\n",
        "                in 2019 and 2021, and will allow us to continue our independent research and develop AI that is \\\n",
        "                increasingly safe, useful, and powerful. \\n\\n\\\n",
        "                Keywords:',}],\n",
        "        max_tokens=400,)\n",
        "\n",
        "print(response.choices[0].message.content)"
      ]
    },
    {
      "cell_type": "markdown",
      "metadata": {
        "nteract": {
          "transient": {
            "deleting": false
          }
        }
      },
      "source": [
        "#### 6. Reduce “fluffy” and imprecise descriptions"
      ]
    },
    {
      "cell_type": "code",
      "execution_count": 36,
      "metadata": {
        "gather": {
          "logged": 1699506148242
        },
        "jupyter": {
          "outputs_hidden": false,
          "source_hidden": false
        },
        "nteract": {
          "transient": {
            "deleting": false
          }
        }
      },
      "outputs": [
        {
          "name": "stdout",
          "output_type": "stream",
          "text": [
            "Introducing our innovative new generation car seat, designed for the ultimate safety and comfort of your child. With its advanced shock absorption technology, superior materials, and adaptive fit features, this car seat offers an unparalleled blend of protection, comfort and convenience. Experience peace of mind as you embark on life's journeys with your little ones, securely and comfortably strapped into our new generation car seat.\n"
          ]
        }
      ],
      "source": [
        "response = client.chat.completions.create(\n",
        "    model=deployment_name,\n",
        "    messages = [{\"role\":\"system\", \"content\":\"You are a helpful assistant.\"},\n",
        "                {\"role\":\"user\",\"content\": 'Write a description for a new product. This product is a new generation of car seat. \\\n",
        "                The description for this product should be fairly short, a few sentences only, and not too much more.',}],\n",
        "        max_tokens=400,)\n",
        "\n",
        "print(response.choices[0].message.content)"
      ]
    },
    {
      "cell_type": "code",
      "execution_count": 37,
      "metadata": {
        "gather": {
          "logged": 1699506155091
        },
        "jupyter": {
          "outputs_hidden": false,
          "source_hidden": false
        },
        "nteract": {
          "transient": {
            "deleting": false
          }
        }
      },
      "outputs": [
        {
          "name": "stdout",
          "output_type": "stream",
          "text": [
            "Introducing our new generation car seat, designed with utmost precision for your child's safety and comfort. This advanced car seat integrates the latest technology with a uniquely ergonomic design to ensure a smooth and secure travel experience for your little ones. Crafted from high-quality materials, it offers superior longevity and durability. It also boasts an easy-to-install system and adjustable seat dimensions catering to different age groups. Embrace the future of safe and effortless journeys with this revolutionary car seat.\n"
          ]
        }
      ],
      "source": [
        "response = client.chat.completions.create(\n",
        "    model=deployment_name,\n",
        "    messages = [{\"role\":\"system\", \"content\":\"You are a helpful assistant.\"},\n",
        "                {\"role\":\"user\",\"content\": 'Write a description for a new product. This product is a new generation of car seat. \\\n",
        "                Use a 3 to 5 sentence paragraph to describe this product.',}],\n",
        "        max_tokens=400,)\n",
        "\n",
        "print(response.choices[0].message.content)"
      ]
    },
    {
      "cell_type": "markdown",
      "metadata": {
        "nteract": {
          "transient": {
            "deleting": false
          }
        }
      },
      "source": [
        "#### 7. Instead of just saying what not to do, say what to do instead"
      ]
    },
    {
      "cell_type": "code",
      "execution_count": 38,
      "metadata": {
        "gather": {
          "logged": 1699506243687
        },
        "jupyter": {
          "outputs_hidden": false,
          "source_hidden": false
        },
        "nteract": {
          "transient": {
            "deleting": false
          }
        }
      },
      "outputs": [
        {
          "name": "stdout",
          "output_type": "stream",
          "text": [
            "I'm sorry to hear you're having trouble logging in. Could you please elaborate on the issue? Is there an error message that you receive? This will help us diagnose the problem better.\n"
          ]
        }
      ],
      "source": [
        "response = client.chat.completions.create(\n",
        "    model=deployment_name,\n",
        "    messages = [{\"role\":\"system\", \"content\":\"You are a helpful assistant.\"},\n",
        "                {\"role\":\"user\",\"content\": 'The following is a conversation between an Agent and a Customer. DO NOT ASK USERNAME OR PASSWORD. DO NOT REPEAT. \\n\\n\\\n",
        "                Customer: I can’t log in to my account.\\n\\\n",
        "                Agent:',}],\n",
        "        max_tokens=400,)\n",
        "\n",
        "print(response.choices[0].message.content)"
      ]
    },
    {
      "cell_type": "code",
      "execution_count": 39,
      "metadata": {
        "gather": {
          "logged": 1699506246951
        },
        "jupyter": {
          "outputs_hidden": false,
          "source_hidden": false
        },
        "nteract": {
          "transient": {
            "deleting": false
          }
        }
      },
      "outputs": [
        {
          "name": "stdout",
          "output_type": "stream",
          "text": [
            "I'm sorry to hear you're having trouble logging into your account. It could be due to several reasons like incorrect password, username or maybe a technical issue. You can follow the necessary troubleshooting steps provided in our FAQ section at www.samplewebsite.com/help/faq. This guide will also instruct you on how to reset your password or username, if needed, without requiring any personal identifiable information.\n"
          ]
        }
      ],
      "source": [
        "response = client.chat.completions.create(\n",
        "    model=deployment_name,\n",
        "    messages = [{\"role\":\"system\", \"content\":\"You are a helpful assistant.\"},\n",
        "                {\"role\":\"user\",\"content\":'The following is a conversation between an Agent and a Customer. The agent will attempt to diagnose the \\\n",
        "                problem and suggest a solution, whilst refraining from asking any questions related to PII. \\\n",
        "                Instead of asking for PII, such as username or password, refer the user to the help \\\n",
        "                article www.samplewebsite.com/help/faq \\n\\n\\\n",
        "                Customer: I can’t log in to my account. \\n\\\n",
        "                Agent:',}],\n",
        "        max_tokens=400,)\n",
        "\n",
        "print(response.choices[0].message.content)"
      ]
    },
    {
      "cell_type": "markdown",
      "metadata": {
        "nteract": {
          "transient": {
            "deleting": false
          }
        }
      },
      "source": [
        "#### 8. Code Generation Specific - Use “leading words” to nudge the model toward a particular pattern"
      ]
    },
    {
      "cell_type": "code",
      "execution_count": 40,
      "metadata": {
        "gather": {
          "logged": 1699506250274
        },
        "jupyter": {
          "outputs_hidden": false,
          "source_hidden": false
        },
        "nteract": {
          "transient": {
            "deleting": false
          }
        }
      },
      "outputs": [
        {
          "name": "stdout",
          "output_type": "stream",
          "text": [
            "Certainly, here is a simple Python function that does what you requested:\n",
            "\n",
            "```python\n",
            "def convert_miles_to_km():\n",
            "    miles = float(input('Please enter the distance in miles: '))\n",
            "    km = miles * 1.60934\n",
            "    print('The distance in kilometers is: ', km)\n",
            "\n",
            "# Call the function\n",
            "convert_miles_to_km()\n",
            "```\n",
            "\n",
            "In this function, you are asked to enter a number (representing miles). The function will then convert the entered miles into kilometers and print out the result.\n"
          ]
        }
      ],
      "source": [
        "response = client.chat.completions.create(\n",
        "    model=deployment_name,\n",
        "    messages = [{\"role\":\"system\", \"content\":\"You are a helpful assistant.\"},\n",
        "                {\"role\":\"user\",\"content\":'# Write a simple python function that \\n\\\n",
        "                # 1. Ask me for a number in mile\\n\\\n",
        "                # 2. It converts miles to kilometers',}],\n",
        "        max_tokens=400,)\n",
        "\n",
        "print(response.choices[0].message.content)"
      ]
    },
    {
      "cell_type": "code",
      "execution_count": null,
      "metadata": {
        "jupyter": {
          "outputs_hidden": false,
          "source_hidden": false
        },
        "nteract": {
          "transient": {
            "deleting": false
          }
        }
      },
      "outputs": [],
      "source": []
    }
  ],
  "metadata": {
    "kernel_info": {
      "name": "python38-azureml"
    },
    "kernelspec": {
      "display_name": "Python 3.8 - AzureML",
      "language": "python",
      "name": "python38-azureml"
    },
    "language_info": {
      "codemirror_mode": {
        "name": "ipython",
        "version": 3
      },
      "file_extension": ".py",
      "mimetype": "text/x-python",
      "name": "python",
      "nbconvert_exporter": "python",
      "pygments_lexer": "ipython3",
      "version": "3.8.5"
    },
    "microsoft": {
      "host": {
        "AzureML": {
          "notebookHasBeenCompleted": true
        }
      },
      "ms_spell_check": {
        "ms_spell_check_language": "en"
      }
    },
    "nteract": {
      "version": "nteract-front-end@1.0.0"
    }
  },
  "nbformat": 4,
  "nbformat_minor": 2
}
