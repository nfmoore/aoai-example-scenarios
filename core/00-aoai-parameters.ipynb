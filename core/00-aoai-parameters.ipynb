{
  "cells": [
    {
      "cell_type": "markdown",
      "metadata": {
        "nteract": {
          "transient": {
            "deleting": false
          }
        }
      },
      "source": [
        "## AOAI Parameters - GPT Models"
      ]
    },
    {
      "cell_type": "markdown",
      "metadata": {
        "nteract": {
          "transient": {
            "deleting": false
          }
        }
      },
      "source": [
        "#### 1. Define Model"
      ]
    },
    {
      "cell_type": "code",
      "execution_count": 1,
      "metadata": {
        "gather": {
          "logged": 1699915888393
        }
      },
      "outputs": [],
      "source": [
        "from openai import AzureOpenAI\n",
        "import os\n",
        "\n",
        "base_url = \"https://aoai719xyz01.openai.azure.com/\"\n",
        "api_version = \"2023-07-01-preview\"\n",
        "api_key = os.environ.get(\"OPENAI_API_KEY\")\n",
        "deployment_name = \"gpt35turbo-16k\" # change to your deployment name\n",
        "\n",
        "client = AzureOpenAI(api_key=api_key, api_version=api_version, azure_endpoint=base_url)"
      ]
    },
    {
      "cell_type": "markdown",
      "metadata": {
        "nteract": {
          "transient": {
            "deleting": false
          }
        }
      },
      "source": [
        "#### 2. temperature\n",
        "\n",
        "Defaults to 1\n",
        "\n",
        "What sampling temperature to use. Higher values means the model will take more risks. Try 0.9 for more creative applications, and 0 (argmax sampling) for ones with a well-defined answer.\n",
        "\n",
        "We generally recommend altering this or top_p but not both."
      ]
    },
    {
      "cell_type": "code",
      "execution_count": 13,
      "metadata": {
        "gather": {
          "logged": 1699587220185
        },
        "jupyter": {
          "outputs_hidden": false,
          "source_hidden": false
        },
        "nteract": {
          "transient": {
            "deleting": false
          }
        }
      },
      "outputs": [
        {
          "name": "stdout",
          "output_type": "stream",
          "text": [
            "subjective question and depends on individual preferences. Some people may argue that a dog is the best pet because of their loyalty, companionship, and ability to provide security. Others may argue that cats are the best pet because of their independence, ease of care, and ability to provide comfort. Additional popular choices for pets include birds, fish, rabbits, and hamsters. Ultimately, the best pet is one that fits well with your lifestyle, meets your needs, and brings you joy and companionship. \n",
            "\n",
            " --- \n",
            "\n",
            "subjective matter that depends on individual preferences and circumstances. Some popular pets include dogs, cats, fish, birds, and small mammals like hamsters or guinea pigs. Each type of pet has its own unique characteristics and requirements, so it's important to consider factors such as size, activity level, maintenance, and compatibility with your lifestyle before choosing a pet. Ultimately, the best pet for you would be one that fits your specific needs and brings you joy and companionship. \n",
            "\n",
            " --- \n",
            "\n",
            "subjective topic, as it depends on individual preferences and circumstances. Some people might prefer dogs as they are known for their loyalty and companionship, while others might prefer cats for their independent nature. Additionally, some people might enjoy smaller pets like hamsters or guinea pigs, while others might enjoy the company of larger pets like horses or birds. Ultimately, the best pet for someone would be a pet that fits their lifestyle, living situation, and personal preferences. \n",
            "\n",
            " --- \n",
            "\n",
            "subjective preference, as it depends on individual lifestyles and preferences. Some people might consider dogs to be the best pets for their loyalty, companionship, and protective instincts. Others might prefer cats for their independence, low-maintenance, and soothing presence. Other popular choices include birds, like parakeets or cockatiels, for their beautiful songs and ability to be trained, or smaller animals like hamsters, guinea pigs, or rabbits, which can be great options for those with limited space or allergies. Ultimately, the best pet is one that fits well into your lifestyle and brings you joy and \n",
            "\n",
            " --- \n",
            "\n",
            "subjective topic and can vary depending on individual preferences, lifestyles, and circumstances. That being said, some popular pets that are often considered to be good options for many people include dogs, cats, and fish. Dogs are known for their loyalty, companionship, and active nature, but they require a lot of attention, exercise, and training. Cats are independent, low-maintenance pets that can provide companionship and relaxation but may not be as interactive as dogs. Fish can be a good choice for people who prefer a low-maintenance pet that adds visual appeal to their home, but they do require \n",
            "\n",
            " --- \n",
            "\n"
          ]
        }
      ],
      "source": [
        "for i in range(0, 5):\n",
        "    response = client.chat.completions.create(\n",
        "        model=deployment_name,\n",
        "        messages = [{\"role\":\"system\", \"content\":\"You are a helpful assistant.\"},\n",
        "                    {\"role\":\"user\",\"content\": 'The best pet is a ',}],\n",
        "                    max_tokens=120,\n",
        "                    temperature=1)\n",
        "\n",
        "    print(response.choices[0].message.content, \"\\n\\n --- \\n\")"
      ]
    },
    {
      "cell_type": "code",
      "execution_count": 14,
      "metadata": {
        "gather": {
          "logged": 1699587247502
        },
        "jupyter": {
          "outputs_hidden": false,
          "source_hidden": false
        },
        "nteract": {
          "transient": {
            "deleting": false
          }
        }
      },
      "outputs": [
        {
          "name": "stdout",
          "output_type": "stream",
          "text": [
            "subjective topic and can vary depending on individual preferences and lifestyles. Some people may prefer dogs as they are loyal, trainable, and provide companionship. Others may prefer cats for their independence, low maintenance, and ability to be left alone for longer periods of time. Other popular pets include birds, fish, rabbits, and hamsters. Ultimately, the best pet is one that fits well with your lifestyle, meets your needs, and brings you joy and companionship. \n",
            "\n",
            " --- \n",
            "\n",
            "subjective topic and can vary depending on individual preferences and lifestyles. Some people may prefer dogs as they are loyal, trainable, and provide companionship. Others may prefer cats for their independence, low maintenance, and ability to be left alone for longer periods of time. Other popular pets include birds, fish, rabbits, and hamsters. Ultimately, the best pet is one that fits well with your lifestyle, meets your needs, and brings you joy and companionship. \n",
            "\n",
            " --- \n",
            "\n",
            "subjective topic and can vary depending on individual preferences and lifestyles. Some people may prefer dogs as they are loyal, trainable, and provide companionship. Others may prefer cats for their independence, low maintenance, and ability to be left alone for longer periods of time. Other popular pets include birds, fish, rabbits, and hamsters. Ultimately, the best pet is one that fits well with your lifestyle, meets your needs, and brings you joy and companionship. \n",
            "\n",
            " --- \n",
            "\n",
            "subjective topic and can vary depending on individual preferences and lifestyles. Some people may prefer dogs as they are loyal, trainable, and provide companionship. Others may prefer cats for their independence, low maintenance, and ability to be left alone for longer periods of time. Other popular pets include birds, fish, rabbits, and hamsters. Ultimately, the best pet is one that fits well with your lifestyle, meets your needs, and brings you joy and companionship. \n",
            "\n",
            " --- \n",
            "\n",
            "subjective topic and can vary depending on individual preferences and lifestyles. Some people may prefer dogs as they are loyal, trainable, and provide companionship. Others may prefer cats for their independence, low maintenance, and ability to be left alone for longer periods of time. Other popular pets include birds, fish, rabbits, and hamsters. Ultimately, the best pet is one that fits well with your lifestyle, meets your needs, and brings you joy and companionship. \n",
            "\n",
            " --- \n",
            "\n"
          ]
        }
      ],
      "source": [
        "for i in range(0, 5):\n",
        "    response = client.chat.completions.create(\n",
        "        model=deployment_name,\n",
        "        messages = [{\"role\":\"system\", \"content\":\"You are a helpful assistant.\"},\n",
        "                    {\"role\":\"user\",\"content\": 'The best pet is a ',}],\n",
        "                    max_tokens=120,\n",
        "                    temperature=0)\n",
        "\n",
        "    print(response.choices[0].message.content, \"\\n\\n --- \\n\")"
      ]
    },
    {
      "cell_type": "markdown",
      "metadata": {
        "nteract": {
          "transient": {
            "deleting": false
          }
        }
      },
      "source": [
        "#### 3. n\n",
        "\n",
        "Defaults to 1\n",
        "\n",
        "How many completions to generate for each prompt.\n",
        "\n",
        "Note: Because this parameter generates many completions, it can quickly consume your token quota. Use carefully and ensure that you have reasonable settings for max_tokens and stop."
      ]
    },
    {
      "cell_type": "code",
      "execution_count": 20,
      "metadata": {
        "gather": {
          "logged": 1699587372968
        },
        "jupyter": {
          "outputs_hidden": false,
          "source_hidden": false
        },
        "nteract": {
          "transient": {
            "deleting": false
          }
        }
      },
      "outputs": [
        {
          "name": "stdout",
          "output_type": "stream",
          "text": [
            "subjective topic as it depends on individual preferences and circumstances. Some people may consider a dog to be the best pet due to their loyalty and companionship, while others might prefer a cat for their independence and low maintenance needs. Other options for best pets could include birds, fish, rodents, or reptiles, depending on what type of pet suits your lifestyle, living situation, and personal preferences. Ultimately, the best pet is one that brings you joy, fits into your lifestyle, and that you can properly care for and provide a loving home. \n",
            "\n",
            " --- \n",
            "\n",
            "subjective matter and depends on individual preferences and lifestyles. Some people may prefer dogs because of their loyalty and ability to provide companionship, while others may prefer cats for their independence and low maintenance. Other popular choices for pets include rabbits, guinea pigs, birds, fish, and even reptiles or small mammals. It is important to consider factors such as time commitment, space available, allergies, and personal preferences when choosing a pet. Ultimately, the best pet is one that brings joy and fits well into your lifestyle. \n",
            "\n",
            " --- \n",
            "\n"
          ]
        }
      ],
      "source": [
        "response = client.chat.completions.create(\n",
        "    model=deployment_name,\n",
        "    messages = [{\"role\":\"system\", \"content\":\"You are a helpful assistant.\"},\n",
        "                {\"role\":\"user\",\"content\": 'The best pet is a ',}],\n",
        "                max_tokens=120,\n",
        "                n=2)\n",
        "\n",
        "for i in range(0, len(response.choices)):\n",
        "    print(response.choices[i].message.content, \"\\n\\n --- \\n\")"
      ]
    },
    {
      "cell_type": "markdown",
      "metadata": {
        "nteract": {
          "transient": {
            "deleting": false
          }
        }
      },
      "source": [
        "#### 4. presence_penalty\n",
        "\n",
        "Defaults to 0\n",
        "\n",
        "Number between -2.0 and 2.0. Positive values penalize new tokens based on whether they appear in the text so far, increasing the model's likelihood to talk about new topics."
      ]
    },
    {
      "cell_type": "code",
      "execution_count": 24,
      "metadata": {
        "gather": {
          "logged": 1699587491074
        },
        "jupyter": {
          "outputs_hidden": false,
          "source_hidden": false
        },
        "nteract": {
          "transient": {
            "deleting": false
          }
        }
      },
      "outputs": [
        {
          "name": "stdout",
          "output_type": "stream",
          "text": [
            "subjective topic and can vary depending on individual preferences and lifestyles. Some people may prefer dogs as they are loyal and can provide companionship and protection. Others may prefer cats as they are independent and low-maintenance. Some may prefer smaller pets like hamsters or guinea pigs as they are easier to care for and require less space. Ultimately, the best pet for someone would be one that fits their lifestyle, meets their needs, and brings them joy and companionship.\n"
          ]
        }
      ],
      "source": [
        "response = client.chat.completions.create(\n",
        "    model=deployment_name,\n",
        "    messages = [{\"role\":\"system\", \"content\":\"You are a helpful assistant.\"},\n",
        "                {\"role\":\"user\",\"content\": 'The best pet is a ',}],\n",
        "                max_tokens=120,\n",
        "                temperature=0,\n",
        "                presence_penalty=-2)\n",
        "\n",
        "print(response.choices[0].message.content)"
      ]
    },
    {
      "cell_type": "code",
      "execution_count": 23,
      "metadata": {
        "gather": {
          "logged": 1699587485898
        },
        "jupyter": {
          "outputs_hidden": false,
          "source_hidden": false
        },
        "nteract": {
          "transient": {
            "deleting": false
          }
        }
      },
      "outputs": [
        {
          "name": "stdout",
          "output_type": "stream",
          "text": [
            "subjective topic and can vary depending on individual preferences, lifestyles, and circumstances. Some people may prefer dogs as they are loyal, trainable, and provide companionship. Others may prefer cats for their independence, low maintenance, and ability to be left alone for longer periods of time. Other popular pets include birds, fish, rabbits, guinea pigs, hamsters, and reptiles. Ultimately, the best pet is one that fits well with your lifestyle, meets your needs, and brings you joy and companionship.\n"
          ]
        }
      ],
      "source": [
        "response = client.chat.completions.create(\n",
        "    model=deployment_name,\n",
        "    messages = [{\"role\":\"system\", \"content\":\"You are a helpful assistant.\"},\n",
        "                {\"role\":\"user\",\"content\": 'The best pet is a ',}],\n",
        "                max_tokens=120,\n",
        "                temperature=0,\n",
        "                presence_penalty=2)\n",
        "\n",
        "print(response.choices[0].message.content)"
      ]
    },
    {
      "cell_type": "markdown",
      "metadata": {
        "nteract": {
          "transient": {
            "deleting": false
          }
        }
      },
      "source": [
        "#### 5. frequency_penalty\n",
        "\n",
        "Defaults to 0\n",
        "\n",
        "Number between -2.0 and 2.0. Positive values penalize new tokens based on their existing frequency in the text so far, decreasing the model's likelihood to repeat the same line verbatim."
      ]
    },
    {
      "cell_type": "code",
      "execution_count": 25,
      "metadata": {
        "gather": {
          "logged": 1699587589402
        },
        "jupyter": {
          "outputs_hidden": false,
          "source_hidden": false
        },
        "nteract": {
          "transient": {
            "deleting": false
          }
        }
      },
      "outputs": [
        {
          "name": "stdout",
          "output_type": "stream",
          "text": [
            "subjective topic and can vary depending on individual preferences and lifestyles. Some people may prefer dogs as they are loyal and can provide companionship and protection. Others may prefer cats as they are independent and can be low maintenance. Some may prefer smaller and low maintenance pets like fish and hamsters. Ultimately, the best pet is one that fits and and and and and and and and and and and and and and and and and and and and and and and and and and and and and and and and and and and and and and and and and and and and and and and and and and and and and\n"
          ]
        }
      ],
      "source": [
        "response = client.chat.completions.create(\n",
        "    model=deployment_name,\n",
        "    messages = [{\"role\":\"system\", \"content\":\"You are a helpful assistant.\"},\n",
        "                {\"role\":\"user\",\"content\": 'The best pet is a ',}],\n",
        "                max_tokens=120,\n",
        "                temperature=0,\n",
        "                frequency_penalty=-2)\n",
        "\n",
        "print(response.choices[0].message.content)"
      ]
    },
    {
      "cell_type": "code",
      "execution_count": 26,
      "metadata": {
        "gather": {
          "logged": 1699587593135
        },
        "jupyter": {
          "outputs_hidden": false,
          "source_hidden": false
        },
        "nteract": {
          "transient": {
            "deleting": false
          }
        }
      },
      "outputs": [
        {
          "name": "stdout",
          "output_type": "stream",
          "text": [
            "subjective topic and can vary depending on individual preferences, lifestyles, and circumstances. Some people may prefer dogs as they are loyal companions and provide security. Others may prefer cats for their independence and low maintenance nature. Other popular pets include birds, fish, rabbits, hamsters, guinea pigs or even reptiles like snakes or turtles.\n",
            "\n",
            "Ultimately the best pet is one that fits well with your lifestyle and meets your needs in terms of time commitment, space requirements, activity level compatibility etc. It's important to research different types of pets before making a decision to ensure you choose the right one for you.\n"
          ]
        }
      ],
      "source": [
        "response = client.chat.completions.create(\n",
        "    model=deployment_name,\n",
        "    messages = [{\"role\":\"system\", \"content\":\"You are a helpful assistant.\"},\n",
        "                {\"role\":\"user\",\"content\": 'The best pet is a ',}],\n",
        "                max_tokens=120,\n",
        "                temperature=0,\n",
        "                frequency_penalty=2)\n",
        "\n",
        "print(response.choices[0].message.content)"
      ]
    },
    {
      "cell_type": "code",
      "execution_count": null,
      "metadata": {
        "jupyter": {
          "outputs_hidden": false,
          "source_hidden": false
        },
        "nteract": {
          "transient": {
            "deleting": false
          }
        }
      },
      "outputs": [],
      "source": []
    }
  ],
  "metadata": {
    "kernel_info": {
      "name": "python38-azureml"
    },
    "kernelspec": {
      "display_name": "Python 3.8 - AzureML",
      "language": "python",
      "name": "python38-azureml"
    },
    "language_info": {
      "codemirror_mode": {
        "name": "ipython",
        "version": 3
      },
      "file_extension": ".py",
      "mimetype": "text/x-python",
      "name": "python",
      "nbconvert_exporter": "python",
      "pygments_lexer": "ipython3",
      "version": "3.8.5"
    },
    "microsoft": {
      "host": {
        "AzureML": {
          "notebookHasBeenCompleted": true
        }
      },
      "ms_spell_check": {
        "ms_spell_check_language": "en"
      }
    },
    "nteract": {
      "version": "nteract-front-end@1.0.0"
    }
  },
  "nbformat": 4,
  "nbformat_minor": 2
}
